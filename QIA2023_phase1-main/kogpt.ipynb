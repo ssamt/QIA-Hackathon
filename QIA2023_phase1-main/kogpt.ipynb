{
 "cells": [
  {
   "cell_type": "code",
   "execution_count": 1,
   "metadata": {
    "collapsed": true
   },
   "outputs": [],
   "source": [
    "import torch\n",
    "from transformers import GPT2LMHeadModel, PreTrainedTokenizerFast\n",
    "\n",
    "from torchinfo import summary"
   ]
  },
  {
   "cell_type": "code",
   "execution_count": 2,
   "outputs": [
    {
     "name": "stderr",
     "output_type": "stream",
     "text": [
      "The tokenizer class you load from this checkpoint is not the same type as the class this function is called from. It may result in unexpected tokenization. \n",
      "The tokenizer class you load from this checkpoint is 'GPT2Tokenizer'. \n",
      "The class this function is called from is 'PreTrainedTokenizerFast'.\n"
     ]
    }
   ],
   "source": [
    "model = GPT2LMHeadModel.from_pretrained('skt/kogpt2-base-v2')\n",
    "tokenizer = PreTrainedTokenizerFast.from_pretrained(\"skt/kogpt2-base-v2\",\n",
    "                                                    bos_token='</s>', eos_token='</s>', unk_token='<unk>',\n",
    "                                                    pad_token='<pad>', mask_token='<mask>')"
   ],
   "metadata": {
    "collapsed": false
   }
  },
  {
   "cell_type": "code",
   "execution_count": 3,
   "outputs": [],
   "source": [
    "text = '질문: 이미 내린 결정에 대해서는 다시 생각하지 않는 편인가요? 그렇게 답변한 이유는 무엇인가요. 답변: <아니다> 저는 잠이 안 올 때 지난날의 결정들에 대해서 다시 생각하고 후회하면서 시간을 보내는 경우가 많습니다. 위의 대화에서 답변자의 성격은'\n",
    "input_ids = tokenizer.encode(text, return_tensors='pt')\n",
    "x = model(input_ids)"
   ],
   "metadata": {
    "collapsed": false
   }
  },
  {
   "cell_type": "code",
   "execution_count": 9,
   "outputs": [
    {
     "name": "stdout",
     "output_type": "stream",
     "text": [
      "질문: 전화 통화를 거는 일은 가능한 피하고 싶나요? 이유는 무엇인가요. 답변: <그렇다> 저는 먼저 연락하는 편이에요. 제가 친구가 보고 싶으면 먼저 연락해서 약속을 잡는 편이에요. 이러한 답변을 하는 사람의 경우 대체로 성격이 내성적이고 자기중심적인 성격이라서 그런지 다른 사람과 잘 어울리지 않는 것 같아요.\n",
      "그래도 친구에게 호감을 갖고 있는 편이거든요?\n",
      "저는 그 사람이 마음에 들었어요.\n",
      "친구들이랑 자주 만나고 싶어서, 그리고 친구의 마음을 이해해 주는 것도 좋지만, 무엇보다 중요한 것은 바로 ‘내가 좋아하는 사람’이에요.\n",
      "이런 사람을 좋아하고 존경할 수\n"
     ]
    }
   ],
   "source": [
    "text = '질문: 전화 통화를 거는 일은 가능한 피하고 싶나요? 이유는 무엇인가요. 답변: <그렇다> 저는 먼저 연락하는 편이에요. 제가 친구가 보고 싶으면 먼저 연락해서 약속을 잡는 편이에요. 이러한 답변을 하는 사람의 경우 대체로 성격이'\n",
    "input_ids = tokenizer.encode(text, return_tensors='pt')\n",
    "gen_ids = model.generate(input_ids,\n",
    "                         max_length=128,\n",
    "                         repetition_penalty=2.0,\n",
    "                         pad_token_id=tokenizer.pad_token_id,\n",
    "                         eos_token_id=tokenizer.eos_token_id,\n",
    "                         bos_token_id=tokenizer.bos_token_id,\n",
    "                         #summary_type='last',\n",
    "                         use_cache=True)\n",
    "generated = tokenizer.decode(gen_ids[0])\n",
    "print(generated)"
   ],
   "metadata": {
    "collapsed": false
   }
  },
  {
   "cell_type": "code",
   "execution_count": 5,
   "outputs": [
    {
     "data": {
      "text/plain": "tensor([[24454,   401, 10074, 16252, 26499, 11358,  9427, 46193,  9944,  9266,\n         14668,  8084,   406, 14927, 12817, 37738, 13404, 24488, 25856, 12817,\n          7643,   401, 30144,  7172,  7182,   405,  9265,  7162, 10138,  8146,\n          9183,  9456,  9068, 12199, 21510,  9842, 10322, 14292,  9427, 22238,\n         49311,  9448, 15148, 17058, 10984,  9146, 16691, 13399, 17305,  9023,\n         12817,  7643,  9401, 22153, 40277,  9090,  6824, 13704,  9256,  8721,\n          9090,  6824,  8084,   406,  9394,  9022, 10534,  9052,  9863, 16765,\n          9080, 28606, 13675,  7192, 16536, 11248, 10615,  9144, 10010,  8366,\n         10491,  9172, 10972,  9094, 15007, 21873, 31189, 11271, 10870, 11379,\n          6866, 15525,  6947,  7399,  7220,  9018, 13598, 17582, 11649, 10446,\n          9038, 20289,  9443, 18762, 16893,  9277,  9135, 10542,  7261,  8286,\n         10034, 39662,  7799,  9115,   681,  9323, 27311, 24226,  9063, 42290,\n         11295,  9031, 16618,  9658, 11387,  7071,  9612,  7374]])"
     },
     "execution_count": 5,
     "metadata": {},
     "output_type": "execute_result"
    }
   ],
   "source": [
    "gen_ids"
   ],
   "metadata": {
    "collapsed": false
   }
  },
  {
   "cell_type": "code",
   "execution_count": 6,
   "outputs": [
    {
     "data": {
      "text/plain": "'질문: 이미 내린 결정에 대해서는 다시 생각하지 않는 편인가요? 그렇게 답변한 이유는 무엇인가요. 답변: <아니다> 저는 잠이 안 올 때 지난날의 결정들에 대해서 다시 생각하고 후회하면서 시간을 보내는 경우가 많습니다. 위의 대화에서 답변자의 성격은 내성적인가요, 외향적인가요? 그리고 그 성격에는 어떤 특징이 있는 것인가요?\\n답변의 내용은 다음과 같습니다.\\n첫째, ‘나는 내 성격이다’ 라는 말을 자주 듣게 됩니다.\\n그런데 이 말은 내가 어떻게 행동하고 있는지 잘 모르는 상태에서 하는 말입니다.\\n둘째로, ‘내성적으로’ 또는 ‘성격이 나쁘게 보이는 것’이라고 생각합니다.\\n내성이란'"
     },
     "execution_count": 6,
     "metadata": {},
     "output_type": "execute_result"
    }
   ],
   "source": [
    "tokenizer.decode(gen_ids[0])"
   ],
   "metadata": {
    "collapsed": false
   }
  },
  {
   "cell_type": "code",
   "execution_count": 6,
   "outputs": [],
   "source": [],
   "metadata": {
    "collapsed": false
   }
  }
 ],
 "metadata": {
  "kernelspec": {
   "display_name": "Python 3",
   "language": "python",
   "name": "python3"
  },
  "language_info": {
   "codemirror_mode": {
    "name": "ipython",
    "version": 2
   },
   "file_extension": ".py",
   "mimetype": "text/x-python",
   "name": "python",
   "nbconvert_exporter": "python",
   "pygments_lexer": "ipython2",
   "version": "2.7.6"
  }
 },
 "nbformat": 4,
 "nbformat_minor": 0
}
