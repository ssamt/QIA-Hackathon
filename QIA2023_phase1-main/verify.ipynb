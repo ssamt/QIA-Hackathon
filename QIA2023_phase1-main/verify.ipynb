{
 "cells": [
  {
   "cell_type": "code",
   "execution_count": 2,
   "metadata": {
    "collapsed": true
   },
   "outputs": [],
   "source": [
    "import pandas as pd"
   ]
  },
  {
   "cell_type": "code",
   "execution_count": 7,
   "outputs": [],
   "source": [
    "train = pd.read_excel('../data2/train_data.xlsx')\n",
    "test = pd.read_excel('../data2/test_data.xlsx')"
   ],
   "metadata": {
    "collapsed": false
   }
  },
  {
   "cell_type": "code",
   "execution_count": 8,
   "outputs": [],
   "source": [
    "def strings(df):\n",
    "    all = df.Long_Answer\n",
    "    first = [all[i] for i in range(0, len(all), 60)]\n",
    "    return first"
   ],
   "metadata": {
    "collapsed": false
   }
  },
  {
   "cell_type": "code",
   "execution_count": 9,
   "outputs": [],
   "source": [
    "train_s = strings(train)\n",
    "test_s = strings(test)"
   ],
   "metadata": {
    "collapsed": false
   }
  },
  {
   "cell_type": "code",
   "execution_count": 10,
   "outputs": [
    {
     "name": "stdout",
     "output_type": "stream",
     "text": [
      "0 새로운 사람을 만나서 이야기를 나누고 마음이 통하는 친구가 되기까지의 과정은 많은 에너지를 필요로 해서 피곤한 일입니다. 새 친구를 사귀기보다는 오랜 기간 알고 지낸 친구 만나는 것을 더 좋아합니다.\n",
      "58 활발하지만 내성적인 성격이라 쉽게 다가가지 못하는 편이고 육아와 살림으로 인해 주기적으로 새로운 친구를 만들기 쉽지 않습니다\n"
     ]
    }
   ],
   "source": [
    "for i in range(len(train_s)):\n",
    "    if train_s[i] in test_s:\n",
    "        print(i, train_s[i])"
   ],
   "metadata": {
    "collapsed": false
   }
  },
  {
   "cell_type": "code",
   "execution_count": null,
   "outputs": [],
   "source": [],
   "metadata": {
    "collapsed": false
   }
  }
 ],
 "metadata": {
  "kernelspec": {
   "display_name": "Python 3",
   "language": "python",
   "name": "python3"
  },
  "language_info": {
   "codemirror_mode": {
    "name": "ipython",
    "version": 2
   },
   "file_extension": ".py",
   "mimetype": "text/x-python",
   "name": "python",
   "nbconvert_exporter": "python",
   "pygments_lexer": "ipython2",
   "version": "2.7.6"
  }
 },
 "nbformat": 4,
 "nbformat_minor": 0
}
